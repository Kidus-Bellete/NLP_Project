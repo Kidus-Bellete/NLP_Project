{
  "nbformat": 4,
  "nbformat_minor": 0,
  "metadata": {
    "colab": {
      "provenance": [],
      "include_colab_link": true
    },
    "kernelspec": {
      "name": "python3",
      "display_name": "Python 3"
    },
    "language_info": {
      "name": "python"
    }
  },
  "cells": [
    {
      "cell_type": "markdown",
      "metadata": {
        "id": "view-in-github",
        "colab_type": "text"
      },
      "source": [
        "<a href=\"https://colab.research.google.com/github/Kidus-Bellete/NLP_Project1/blob/main/nlp_project.ipynb\" target=\"_parent\"><img src=\"https://colab.research.google.com/assets/colab-badge.svg\" alt=\"Open In Colab\"/></a>"
      ]
    },
    {
      "cell_type": "code",
      "execution_count": null,
      "metadata": {
        "id": "3F87pctivaG1"
      },
      "outputs": [],
      "source": [
        "import pandas as pd\n",
        "import requests\n",
        "titles = [\"Medicine\", \"Hospital\", \"Surgery\", \"Health\",\"Heart\",\"Vaccine\",\n",
        "    \"Pharmacy\", \"Immunology\", \"Pathology\",\"Treatment\",\"Diabetes\",\"Disease\",\n",
        "     \"Therapy\", \"Dentistry\",\"Kidney\",\"Blood\",\"Blood pressure\",\"Virus\",\n",
        "    \"Art\", \"Language\", \"Literature\", \"Philosophy\",\n",
        "    \"Empire\", \"Space\", \"Environment\",\"Color\",\"Mountain\",\n",
        "    \"Forest\", \"Cooking\",\"Theology\",\"Fashion\",\n",
        "    \"History\", \"Geography\", \"Archaeology\",\"government\",\"Astronomy\"]\n",
        "    #create a data frame\n",
        "df = pd.DataFrame(columns=[\"Text\", \"Label\"])\n",
        "dataArr = []\n",
        "def fetc(title):\n",
        "  url = 'https://en.wikipedia.org/w/api.php'\n",
        "  params = {\n",
        "        'action': 'query',\n",
        "        'format': 'json',\n",
        "        'titles': title,\n",
        "        'prop': 'extracts',\n",
        "        'exintro': True,\n",
        "        'explaintext': True,\n",
        "  }\n",
        "  response = requests.get(url, params=params)\n",
        "  data = response.json()\n",
        "  return data\n",
        "for topic in titles:\n",
        "  data = fetc(topic)\n",
        "  topic=next(iter(data['query']['pages'].values()))\n",
        "  dataArr.append(topic['extract'][:500])\n",
        "\n",
        "data = {\"Text\": dataArr, \"Label\": [\"Medical\"] * 18 + [\"Non-Medical\"] * 18}\n",
        "try:\n",
        "    df_added = pd.DataFrame(data)\n",
        "    df = pd.concat([df, df_added], ignore_index=True)\n",
        "   # print(df)\n",
        "    df.to_csv('nlp_dataset.csv', index=False)\n",
        "except ValueError as e:\n",
        "    print(f\"ValueError: {e}\")\n"
      ]
    },
    {
      "cell_type": "code",
      "source": [
        "from google.colab import drive\n",
        "drive.mount('/content/drive')"
      ],
      "metadata": {
        "colab": {
          "base_uri": "https://localhost:8080/"
        },
        "id": "nWDjXUlBoDdK",
        "outputId": "373d95ad-7e00-4b75-ee11-af8ce8b3d24a"
      },
      "execution_count": 1,
      "outputs": [
        {
          "output_type": "stream",
          "name": "stdout",
          "text": [
            "Mounted at /content/drive\n"
          ]
        }
      ]
    },
    {
      "cell_type": "code",
      "source": [
        "!apt-get install -y git\n",
        "!git config --global user.email \"dagnaw.kidus@gmail.com\"\n",
        "!git config --global user.name \"Kidus Bellete\""
      ],
      "metadata": {
        "id": "2aZwHY4LoWIJ"
      },
      "execution_count": null,
      "outputs": []
    },
    {
      "cell_type": "code",
      "source": [
        "!mkdir /content/drive/MyDrive/colab_project\n",
        "%cd /content/drive/MyDrive/colab_project\n",
        "!git init"
      ],
      "metadata": {
        "id": "FFEu1CxrosCP"
      },
      "execution_count": null,
      "outputs": []
    },
    {
      "cell_type": "code",
      "source": [
        "!cp /content/drive/MyDrive/Python/nlp_project.ipynb /content/drive/MyDrive/colab_project/"
      ],
      "metadata": {
        "id": "jXH5Syn3o0MF"
      },
      "execution_count": 4,
      "outputs": []
    },
    {
      "cell_type": "code",
      "source": [
        "!git add .\n",
        "!git commit -m \"Initial commit\"\n",
        "!git remote add origin https://github.com/Kidus-Bellete/nlp-proj.git\n",
        "!git branch -M main  # Replace \"main\" with \"master\" if using an older Git version\n",
        "!git push -u origin main  # Replace \"main\" with your branch name\n"
      ],
      "metadata": {
        "colab": {
          "base_uri": "https://localhost:8080/"
        },
        "id": "Ic1bf57mpi_3",
        "outputId": "7414dab9-3383-4afd-df20-f519102f1ad3"
      },
      "execution_count": 15,
      "outputs": [
        {
          "output_type": "stream",
          "name": "stdout",
          "text": [
            "On branch main\n",
            "nothing to commit, working tree clean\n",
            "error: remote origin already exists.\n",
            "fatal: could not read Username for 'https://github.com': No such device or address\n"
          ]
        }
      ]
    },
    {
      "cell_type": "markdown",
      "source": [
        "# Python Natural Language Project Assignment I"
      ],
      "metadata": {
        "id": "FbgrghLxdcjM"
      }
    },
    {
      "cell_type": "code",
      "source": [
        "from sklearn.model_selection import train_test_split\n",
        "from sklearn.feature_extraction.text import TfidfVectorizer\n",
        "from sklearn.naive_bayes import MultinomialNB\n",
        "from sklearn.metrics import accuracy_score, classification_report\n",
        "from imblearn.over_sampling import SMOTE\n",
        "#import pandas as pd\n",
        "\n",
        "# read data\n",
        "df = pd.read_csv('nlp_dataset.csv')\n",
        "print(\"Original data distribution..\")\n",
        "print(df['Label'].value_counts())\n",
        "\n",
        "# training and testing\n",
        "X_train, X_test, y_train, y_test = train_test_split(df['Text'], df['Label'],random_state=32)\n",
        "\n",
        "# Fill missing values\n",
        "X_train = X_train.fillna('')\n",
        "X_test = X_test.fillna('')\n",
        "\n",
        "# feature extraction\n",
        "tfidf_vectorizer = TfidfVectorizer(stop_words='english')\n",
        "X_train_tfidf = tfidf_vectorizer.fit_transform(X_train)\n",
        "X_test_tfidf = tfidf_vectorizer.transform(X_test)\n",
        "\n",
        "# Resampling using SMOTE\n",
        "sampler = SMOTE(sampling_strategy='auto', k_neighbors=5)\n",
        "X_train_resampled, y_train_resampled = sampler.fit_resample(X_train_tfidf, y_train)\n",
        "\n",
        "# Model selection and training\n",
        "model = MultinomialNB()\n",
        "model.fit(X_train_resampled, y_train_resampled)\n",
        "\n",
        "# model evaluation\n",
        "predictions = model.predict(X_test_tfidf)\n",
        "accuracy = accuracy_score(y_test, predictions)\n",
        "print(f\"\\nAccuracy: {accuracy}\")\n",
        "print(\"Classification Report:\\n\", classification_report(y_test, predictions))\n",
        "\n",
        "# making predictions\n",
        "# data to predict\n",
        "new_data = [\"head ache is a type of disease \",\n",
        "            \"Ethiopia is the oldest city with many historical heritages.\",\n",
        "            \"He has a chance to recover from his disease\",\n",
        "            \"I love to see Italian historical places.\",\n",
        "            \"This day reminds me so special memory of my graduation in the year of 2020. \",\n",
        "            \"How can I feel better and to improve my mood?\",\n",
        "            \"does food changes my feeling?\"\n",
        "            #add any sentences to check its prediction value\n",
        "            ]\n",
        "\n",
        "new_data_tfidf = tfidf_vectorizer.transform(new_data)\n",
        "new_predictions = model.predict(new_data_tfidf)\n",
        "\n",
        "print(\"\\nPredictions on new data:\\n\")\n",
        "\n",
        "for text, prediction in zip(new_data, new_predictions):\n",
        "    print(f\"{text} - Predicted: {prediction}\")\n"
      ],
      "metadata": {
        "colab": {
          "base_uri": "https://localhost:8080/"
        },
        "id": "aVbDlnuR0XE_",
        "outputId": "468ea112-632f-4f17-e928-0979c717196c"
      },
      "execution_count": null,
      "outputs": [
        {
          "output_type": "stream",
          "name": "stdout",
          "text": [
            "Original data distribution..\n",
            "Medical        18\n",
            "Non-Medical    18\n",
            "Name: Label, dtype: int64\n",
            "\n",
            "Accuracy: 88.88888888888889\n",
            "Classification Report:\n",
            "               precision    recall  f1-score   support\n",
            "\n",
            "     Medical       1.00      0.83      0.91         6\n",
            " Non-Medical       0.75      1.00      0.86         3\n",
            "\n",
            "    accuracy                           0.89         9\n",
            "   macro avg       0.88      0.92      0.88         9\n",
            "weighted avg       0.92      0.89      0.89         9\n",
            "\n",
            "\n",
            "Predictions on new data:\n",
            "\n",
            "head ache is a type of disease  - Predicted: Medical\n",
            "Ethiopia is the oldest city with many historical heritages. - Predicted: Non-Medical\n",
            "He has a chance to recover from his disease - Predicted: Medical\n",
            "I love to see Italian historical places. - Predicted: Non-Medical\n",
            "This day reminds me so special memory of my graduation in the year of 2020.  - Predicted: Non-Medical\n",
            "How can I feel better and to improve my mood? - Predicted: Medical\n",
            "does food changes my feeling? - Predicted: Non-Medical\n"
          ]
        }
      ]
    }
  ]
}